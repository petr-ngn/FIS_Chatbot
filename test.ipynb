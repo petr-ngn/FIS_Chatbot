{
 "cells": [
  {
   "cell_type": "code",
   "execution_count": 3,
   "metadata": {},
   "outputs": [],
   "source": [
    "import tensorflow as tf\n",
    "from src_PN.PN_functions import f1, categorical_focal_loss_function"
   ]
  },
  {
   "cell_type": "code",
   "execution_count": 4,
   "metadata": {},
   "outputs": [],
   "source": [
    "en_NN = tf.keras.models.load_model(r'models\\en\\en_NN.h5', custom_objects = {'f1': f1, 'categorical_focal_loss': categorical_focal_loss_function})"
   ]
  },
  {
   "cell_type": "code",
   "execution_count": 5,
   "metadata": {},
   "outputs": [],
   "source": [
    "cs_NN = tf.keras.models.load_model(r'models\\cs\\cs_NN.h5', custom_objects = {'f1': f1, 'categorical_focal_loss': categorical_focal_loss_function})"
   ]
  },
  {
   "cell_type": "code",
   "execution_count": 7,
   "metadata": {},
   "outputs": [
    {
     "name": "stdout",
     "output_type": "stream",
     "text": [
      "Model: \"NN_PN\"\n",
      "_________________________________________________________________\n",
      " Layer (type)                Output Shape              Param #   \n",
      "=================================================================\n",
      " InputLayer (InputLayer)     [(None, 157)]             0         \n",
      "                                                                 \n",
      " dense_2 (Dense)             (None, 51)                8058      \n",
      "                                                                 \n",
      " dropout_2 (Dropout)         (None, 51)                0         \n",
      "                                                                 \n",
      " OutpuLayer (Dense)          (None, 41)                2132      \n",
      "                                                                 \n",
      "=================================================================\n",
      "Total params: 10,190\n",
      "Trainable params: 10,190\n",
      "Non-trainable params: 0\n",
      "_________________________________________________________________\n"
     ]
    }
   ],
   "source": [
    "en_NN.summary()"
   ]
  },
  {
   "cell_type": "code",
   "execution_count": 6,
   "metadata": {},
   "outputs": [
    {
     "name": "stdout",
     "output_type": "stream",
     "text": [
      "Model: \"NN_PN\"\n",
      "_________________________________________________________________\n",
      " Layer (type)                Output Shape              Param #   \n",
      "=================================================================\n",
      " InputLayer (InputLayer)     [(None, 183)]             0         \n",
      "                                                                 \n",
      " dense_2 (Dense)             (None, 51)                9384      \n",
      "                                                                 \n",
      " dropout_2 (Dropout)         (None, 51)                0         \n",
      "                                                                 \n",
      " OutpuLayer (Dense)          (None, 41)                2132      \n",
      "                                                                 \n",
      "=================================================================\n",
      "Total params: 11,516\n",
      "Trainable params: 11,516\n",
      "Non-trainable params: 0\n",
      "_________________________________________________________________\n"
     ]
    }
   ],
   "source": [
    "cs_NN.summary()"
   ]
  },
  {
   "cell_type": "code",
   "execution_count": null,
   "metadata": {},
   "outputs": [],
   "source": []
  }
 ],
 "metadata": {
  "kernelspec": {
   "display_name": "fis_chatbot",
   "language": "python",
   "name": "python3"
  },
  "language_info": {
   "codemirror_mode": {
    "name": "ipython",
    "version": 3
   },
   "file_extension": ".py",
   "mimetype": "text/x-python",
   "name": "python",
   "nbconvert_exporter": "python",
   "pygments_lexer": "ipython3",
   "version": "3.9.16"
  },
  "orig_nbformat": 4
 },
 "nbformat": 4,
 "nbformat_minor": 2
}
